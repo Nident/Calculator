{
  "nbformat": 4,
  "nbformat_minor": 0,
  "metadata": {
    "colab": {
      "provenance": [],
      "gpuType": "T4",
      "authorship_tag": "ABX9TyOLhN0yyKZARfNIUbM75sfC",
      "include_colab_link": true
    },
    "kernelspec": {
      "name": "python3",
      "display_name": "Python 3"
    },
    "language_info": {
      "name": "python"
    },
    "widgets": {
      "application/vnd.jupyter.widget-state+json": {
        "c47c6c354813439ba3bcf749bbb5f10b": {
          "model_module": "@jupyter-widgets/controls",
          "model_name": "HBoxModel",
          "model_module_version": "1.5.0",
          "state": {
            "_dom_classes": [],
            "_model_module": "@jupyter-widgets/controls",
            "_model_module_version": "1.5.0",
            "_model_name": "HBoxModel",
            "_view_count": null,
            "_view_module": "@jupyter-widgets/controls",
            "_view_module_version": "1.5.0",
            "_view_name": "HBoxView",
            "box_style": "",
            "children": [
              "IPY_MODEL_f093ee735f154edcbd6c8cfa392eff0b",
              "IPY_MODEL_ebe5268b83454203b790602977a543c6",
              "IPY_MODEL_234e82bc25ff4bec9e47ac7b5ca9780b"
            ],
            "layout": "IPY_MODEL_652e0279e3b644f39ce84af3ad94bf04"
          }
        },
        "f093ee735f154edcbd6c8cfa392eff0b": {
          "model_module": "@jupyter-widgets/controls",
          "model_name": "HTMLModel",
          "model_module_version": "1.5.0",
          "state": {
            "_dom_classes": [],
            "_model_module": "@jupyter-widgets/controls",
            "_model_module_version": "1.5.0",
            "_model_name": "HTMLModel",
            "_view_count": null,
            "_view_module": "@jupyter-widgets/controls",
            "_view_module_version": "1.5.0",
            "_view_name": "HTMLView",
            "description": "",
            "description_tooltip": null,
            "layout": "IPY_MODEL_be94b8d20bc545b79ce5c6a732fa30c6",
            "placeholder": "​",
            "style": "IPY_MODEL_9984aa77f2af44a29d70fb637c88d135",
            "value": "preprocessor_config.json: 100%"
          }
        },
        "ebe5268b83454203b790602977a543c6": {
          "model_module": "@jupyter-widgets/controls",
          "model_name": "FloatProgressModel",
          "model_module_version": "1.5.0",
          "state": {
            "_dom_classes": [],
            "_model_module": "@jupyter-widgets/controls",
            "_model_module_version": "1.5.0",
            "_model_name": "FloatProgressModel",
            "_view_count": null,
            "_view_module": "@jupyter-widgets/controls",
            "_view_module_version": "1.5.0",
            "_view_name": "ProgressView",
            "bar_style": "success",
            "description": "",
            "description_tooltip": null,
            "layout": "IPY_MODEL_63a155178a9f434bb414189ffa818050",
            "max": 466,
            "min": 0,
            "orientation": "horizontal",
            "style": "IPY_MODEL_48edd228d02b461ab17481146fc7c1b8",
            "value": 466
          }
        },
        "234e82bc25ff4bec9e47ac7b5ca9780b": {
          "model_module": "@jupyter-widgets/controls",
          "model_name": "HTMLModel",
          "model_module_version": "1.5.0",
          "state": {
            "_dom_classes": [],
            "_model_module": "@jupyter-widgets/controls",
            "_model_module_version": "1.5.0",
            "_model_name": "HTMLModel",
            "_view_count": null,
            "_view_module": "@jupyter-widgets/controls",
            "_view_module_version": "1.5.0",
            "_view_name": "HTMLView",
            "description": "",
            "description_tooltip": null,
            "layout": "IPY_MODEL_edcfa6ffd183463682cd87fbb17fc9a9",
            "placeholder": "​",
            "style": "IPY_MODEL_e3538137b6e7445fb40ba34c67b1c747",
            "value": " 466/466 [00:00&lt;00:00, 8.69kB/s]"
          }
        },
        "652e0279e3b644f39ce84af3ad94bf04": {
          "model_module": "@jupyter-widgets/base",
          "model_name": "LayoutModel",
          "model_module_version": "1.2.0",
          "state": {
            "_model_module": "@jupyter-widgets/base",
            "_model_module_version": "1.2.0",
            "_model_name": "LayoutModel",
            "_view_count": null,
            "_view_module": "@jupyter-widgets/base",
            "_view_module_version": "1.2.0",
            "_view_name": "LayoutView",
            "align_content": null,
            "align_items": null,
            "align_self": null,
            "border": null,
            "bottom": null,
            "display": null,
            "flex": null,
            "flex_flow": null,
            "grid_area": null,
            "grid_auto_columns": null,
            "grid_auto_flow": null,
            "grid_auto_rows": null,
            "grid_column": null,
            "grid_gap": null,
            "grid_row": null,
            "grid_template_areas": null,
            "grid_template_columns": null,
            "grid_template_rows": null,
            "height": null,
            "justify_content": null,
            "justify_items": null,
            "left": null,
            "margin": null,
            "max_height": null,
            "max_width": null,
            "min_height": null,
            "min_width": null,
            "object_fit": null,
            "object_position": null,
            "order": null,
            "overflow": null,
            "overflow_x": null,
            "overflow_y": null,
            "padding": null,
            "right": null,
            "top": null,
            "visibility": null,
            "width": null
          }
        },
        "be94b8d20bc545b79ce5c6a732fa30c6": {
          "model_module": "@jupyter-widgets/base",
          "model_name": "LayoutModel",
          "model_module_version": "1.2.0",
          "state": {
            "_model_module": "@jupyter-widgets/base",
            "_model_module_version": "1.2.0",
            "_model_name": "LayoutModel",
            "_view_count": null,
            "_view_module": "@jupyter-widgets/base",
            "_view_module_version": "1.2.0",
            "_view_name": "LayoutView",
            "align_content": null,
            "align_items": null,
            "align_self": null,
            "border": null,
            "bottom": null,
            "display": null,
            "flex": null,
            "flex_flow": null,
            "grid_area": null,
            "grid_auto_columns": null,
            "grid_auto_flow": null,
            "grid_auto_rows": null,
            "grid_column": null,
            "grid_gap": null,
            "grid_row": null,
            "grid_template_areas": null,
            "grid_template_columns": null,
            "grid_template_rows": null,
            "height": null,
            "justify_content": null,
            "justify_items": null,
            "left": null,
            "margin": null,
            "max_height": null,
            "max_width": null,
            "min_height": null,
            "min_width": null,
            "object_fit": null,
            "object_position": null,
            "order": null,
            "overflow": null,
            "overflow_x": null,
            "overflow_y": null,
            "padding": null,
            "right": null,
            "top": null,
            "visibility": null,
            "width": null
          }
        },
        "9984aa77f2af44a29d70fb637c88d135": {
          "model_module": "@jupyter-widgets/controls",
          "model_name": "DescriptionStyleModel",
          "model_module_version": "1.5.0",
          "state": {
            "_model_module": "@jupyter-widgets/controls",
            "_model_module_version": "1.5.0",
            "_model_name": "DescriptionStyleModel",
            "_view_count": null,
            "_view_module": "@jupyter-widgets/base",
            "_view_module_version": "1.2.0",
            "_view_name": "StyleView",
            "description_width": ""
          }
        },
        "63a155178a9f434bb414189ffa818050": {
          "model_module": "@jupyter-widgets/base",
          "model_name": "LayoutModel",
          "model_module_version": "1.2.0",
          "state": {
            "_model_module": "@jupyter-widgets/base",
            "_model_module_version": "1.2.0",
            "_model_name": "LayoutModel",
            "_view_count": null,
            "_view_module": "@jupyter-widgets/base",
            "_view_module_version": "1.2.0",
            "_view_name": "LayoutView",
            "align_content": null,
            "align_items": null,
            "align_self": null,
            "border": null,
            "bottom": null,
            "display": null,
            "flex": null,
            "flex_flow": null,
            "grid_area": null,
            "grid_auto_columns": null,
            "grid_auto_flow": null,
            "grid_auto_rows": null,
            "grid_column": null,
            "grid_gap": null,
            "grid_row": null,
            "grid_template_areas": null,
            "grid_template_columns": null,
            "grid_template_rows": null,
            "height": null,
            "justify_content": null,
            "justify_items": null,
            "left": null,
            "margin": null,
            "max_height": null,
            "max_width": null,
            "min_height": null,
            "min_width": null,
            "object_fit": null,
            "object_position": null,
            "order": null,
            "overflow": null,
            "overflow_x": null,
            "overflow_y": null,
            "padding": null,
            "right": null,
            "top": null,
            "visibility": null,
            "width": null
          }
        },
        "48edd228d02b461ab17481146fc7c1b8": {
          "model_module": "@jupyter-widgets/controls",
          "model_name": "ProgressStyleModel",
          "model_module_version": "1.5.0",
          "state": {
            "_model_module": "@jupyter-widgets/controls",
            "_model_module_version": "1.5.0",
            "_model_name": "ProgressStyleModel",
            "_view_count": null,
            "_view_module": "@jupyter-widgets/base",
            "_view_module_version": "1.2.0",
            "_view_name": "StyleView",
            "bar_color": null,
            "description_width": ""
          }
        },
        "edcfa6ffd183463682cd87fbb17fc9a9": {
          "model_module": "@jupyter-widgets/base",
          "model_name": "LayoutModel",
          "model_module_version": "1.2.0",
          "state": {
            "_model_module": "@jupyter-widgets/base",
            "_model_module_version": "1.2.0",
            "_model_name": "LayoutModel",
            "_view_count": null,
            "_view_module": "@jupyter-widgets/base",
            "_view_module_version": "1.2.0",
            "_view_name": "LayoutView",
            "align_content": null,
            "align_items": null,
            "align_self": null,
            "border": null,
            "bottom": null,
            "display": null,
            "flex": null,
            "flex_flow": null,
            "grid_area": null,
            "grid_auto_columns": null,
            "grid_auto_flow": null,
            "grid_auto_rows": null,
            "grid_column": null,
            "grid_gap": null,
            "grid_row": null,
            "grid_template_areas": null,
            "grid_template_columns": null,
            "grid_template_rows": null,
            "height": null,
            "justify_content": null,
            "justify_items": null,
            "left": null,
            "margin": null,
            "max_height": null,
            "max_width": null,
            "min_height": null,
            "min_width": null,
            "object_fit": null,
            "object_position": null,
            "order": null,
            "overflow": null,
            "overflow_x": null,
            "overflow_y": null,
            "padding": null,
            "right": null,
            "top": null,
            "visibility": null,
            "width": null
          }
        },
        "e3538137b6e7445fb40ba34c67b1c747": {
          "model_module": "@jupyter-widgets/controls",
          "model_name": "DescriptionStyleModel",
          "model_module_version": "1.5.0",
          "state": {
            "_model_module": "@jupyter-widgets/controls",
            "_model_module_version": "1.5.0",
            "_model_name": "DescriptionStyleModel",
            "_view_count": null,
            "_view_module": "@jupyter-widgets/base",
            "_view_module_version": "1.2.0",
            "_view_name": "StyleView",
            "description_width": ""
          }
        },
        "72db9043dedd4564a7a816ccdd5fbb13": {
          "model_module": "@jupyter-widgets/controls",
          "model_name": "HBoxModel",
          "model_module_version": "1.5.0",
          "state": {
            "_dom_classes": [],
            "_model_module": "@jupyter-widgets/controls",
            "_model_module_version": "1.5.0",
            "_model_name": "HBoxModel",
            "_view_count": null,
            "_view_module": "@jupyter-widgets/controls",
            "_view_module_version": "1.5.0",
            "_view_name": "HBoxView",
            "box_style": "",
            "children": [
              "IPY_MODEL_c4b4855bf663430cb6451cb4c1c99c9e",
              "IPY_MODEL_f6459f95515c4e4785ce9cdc8211f67d",
              "IPY_MODEL_28649e53b5bf41feafdeb836af9edf0d"
            ],
            "layout": "IPY_MODEL_1ab8a274ebed46a886588a0be2d89f5a"
          }
        },
        "c4b4855bf663430cb6451cb4c1c99c9e": {
          "model_module": "@jupyter-widgets/controls",
          "model_name": "HTMLModel",
          "model_module_version": "1.5.0",
          "state": {
            "_dom_classes": [],
            "_model_module": "@jupyter-widgets/controls",
            "_model_module_version": "1.5.0",
            "_model_name": "HTMLModel",
            "_view_count": null,
            "_view_module": "@jupyter-widgets/controls",
            "_view_module_version": "1.5.0",
            "_view_name": "HTMLView",
            "description": "",
            "description_tooltip": null,
            "layout": "IPY_MODEL_66dc8e84ce0d4343aee4aec1d33dab50",
            "placeholder": "​",
            "style": "IPY_MODEL_204b2490868345e0b6e4ec6d6fa0c8ba",
            "value": "config.json: 100%"
          }
        },
        "f6459f95515c4e4785ce9cdc8211f67d": {
          "model_module": "@jupyter-widgets/controls",
          "model_name": "FloatProgressModel",
          "model_module_version": "1.5.0",
          "state": {
            "_dom_classes": [],
            "_model_module": "@jupyter-widgets/controls",
            "_model_module_version": "1.5.0",
            "_model_name": "FloatProgressModel",
            "_view_count": null,
            "_view_module": "@jupyter-widgets/controls",
            "_view_module_version": "1.5.0",
            "_view_name": "ProgressView",
            "bar_style": "success",
            "description": "",
            "description_tooltip": null,
            "layout": "IPY_MODEL_b64fa2de68f94a3ba29732e0d002cae8",
            "max": 6566,
            "min": 0,
            "orientation": "horizontal",
            "style": "IPY_MODEL_c5ffeb190dcb44c2b2a33adfa348741e",
            "value": 6566
          }
        },
        "28649e53b5bf41feafdeb836af9edf0d": {
          "model_module": "@jupyter-widgets/controls",
          "model_name": "HTMLModel",
          "model_module_version": "1.5.0",
          "state": {
            "_dom_classes": [],
            "_model_module": "@jupyter-widgets/controls",
            "_model_module_version": "1.5.0",
            "_model_name": "HTMLModel",
            "_view_count": null,
            "_view_module": "@jupyter-widgets/controls",
            "_view_module_version": "1.5.0",
            "_view_name": "HTMLView",
            "description": "",
            "description_tooltip": null,
            "layout": "IPY_MODEL_6cc8a6ee33b04c948d41bc7aca7428c9",
            "placeholder": "​",
            "style": "IPY_MODEL_3b41f4e586e14914819e2fc708073167",
            "value": " 6.57k/6.57k [00:00&lt;00:00, 160kB/s]"
          }
        },
        "1ab8a274ebed46a886588a0be2d89f5a": {
          "model_module": "@jupyter-widgets/base",
          "model_name": "LayoutModel",
          "model_module_version": "1.2.0",
          "state": {
            "_model_module": "@jupyter-widgets/base",
            "_model_module_version": "1.2.0",
            "_model_name": "LayoutModel",
            "_view_count": null,
            "_view_module": "@jupyter-widgets/base",
            "_view_module_version": "1.2.0",
            "_view_name": "LayoutView",
            "align_content": null,
            "align_items": null,
            "align_self": null,
            "border": null,
            "bottom": null,
            "display": null,
            "flex": null,
            "flex_flow": null,
            "grid_area": null,
            "grid_auto_columns": null,
            "grid_auto_flow": null,
            "grid_auto_rows": null,
            "grid_column": null,
            "grid_gap": null,
            "grid_row": null,
            "grid_template_areas": null,
            "grid_template_columns": null,
            "grid_template_rows": null,
            "height": null,
            "justify_content": null,
            "justify_items": null,
            "left": null,
            "margin": null,
            "max_height": null,
            "max_width": null,
            "min_height": null,
            "min_width": null,
            "object_fit": null,
            "object_position": null,
            "order": null,
            "overflow": null,
            "overflow_x": null,
            "overflow_y": null,
            "padding": null,
            "right": null,
            "top": null,
            "visibility": null,
            "width": null
          }
        },
        "66dc8e84ce0d4343aee4aec1d33dab50": {
          "model_module": "@jupyter-widgets/base",
          "model_name": "LayoutModel",
          "model_module_version": "1.2.0",
          "state": {
            "_model_module": "@jupyter-widgets/base",
            "_model_module_version": "1.2.0",
            "_model_name": "LayoutModel",
            "_view_count": null,
            "_view_module": "@jupyter-widgets/base",
            "_view_module_version": "1.2.0",
            "_view_name": "LayoutView",
            "align_content": null,
            "align_items": null,
            "align_self": null,
            "border": null,
            "bottom": null,
            "display": null,
            "flex": null,
            "flex_flow": null,
            "grid_area": null,
            "grid_auto_columns": null,
            "grid_auto_flow": null,
            "grid_auto_rows": null,
            "grid_column": null,
            "grid_gap": null,
            "grid_row": null,
            "grid_template_areas": null,
            "grid_template_columns": null,
            "grid_template_rows": null,
            "height": null,
            "justify_content": null,
            "justify_items": null,
            "left": null,
            "margin": null,
            "max_height": null,
            "max_width": null,
            "min_height": null,
            "min_width": null,
            "object_fit": null,
            "object_position": null,
            "order": null,
            "overflow": null,
            "overflow_x": null,
            "overflow_y": null,
            "padding": null,
            "right": null,
            "top": null,
            "visibility": null,
            "width": null
          }
        },
        "204b2490868345e0b6e4ec6d6fa0c8ba": {
          "model_module": "@jupyter-widgets/controls",
          "model_name": "DescriptionStyleModel",
          "model_module_version": "1.5.0",
          "state": {
            "_model_module": "@jupyter-widgets/controls",
            "_model_module_version": "1.5.0",
            "_model_name": "DescriptionStyleModel",
            "_view_count": null,
            "_view_module": "@jupyter-widgets/base",
            "_view_module_version": "1.2.0",
            "_view_name": "StyleView",
            "description_width": ""
          }
        },
        "b64fa2de68f94a3ba29732e0d002cae8": {
          "model_module": "@jupyter-widgets/base",
          "model_name": "LayoutModel",
          "model_module_version": "1.2.0",
          "state": {
            "_model_module": "@jupyter-widgets/base",
            "_model_module_version": "1.2.0",
            "_model_name": "LayoutModel",
            "_view_count": null,
            "_view_module": "@jupyter-widgets/base",
            "_view_module_version": "1.2.0",
            "_view_name": "LayoutView",
            "align_content": null,
            "align_items": null,
            "align_self": null,
            "border": null,
            "bottom": null,
            "display": null,
            "flex": null,
            "flex_flow": null,
            "grid_area": null,
            "grid_auto_columns": null,
            "grid_auto_flow": null,
            "grid_auto_rows": null,
            "grid_column": null,
            "grid_gap": null,
            "grid_row": null,
            "grid_template_areas": null,
            "grid_template_columns": null,
            "grid_template_rows": null,
            "height": null,
            "justify_content": null,
            "justify_items": null,
            "left": null,
            "margin": null,
            "max_height": null,
            "max_width": null,
            "min_height": null,
            "min_width": null,
            "object_fit": null,
            "object_position": null,
            "order": null,
            "overflow": null,
            "overflow_x": null,
            "overflow_y": null,
            "padding": null,
            "right": null,
            "top": null,
            "visibility": null,
            "width": null
          }
        },
        "c5ffeb190dcb44c2b2a33adfa348741e": {
          "model_module": "@jupyter-widgets/controls",
          "model_name": "ProgressStyleModel",
          "model_module_version": "1.5.0",
          "state": {
            "_model_module": "@jupyter-widgets/controls",
            "_model_module_version": "1.5.0",
            "_model_name": "ProgressStyleModel",
            "_view_count": null,
            "_view_module": "@jupyter-widgets/base",
            "_view_module_version": "1.2.0",
            "_view_name": "StyleView",
            "bar_color": null,
            "description_width": ""
          }
        },
        "6cc8a6ee33b04c948d41bc7aca7428c9": {
          "model_module": "@jupyter-widgets/base",
          "model_name": "LayoutModel",
          "model_module_version": "1.2.0",
          "state": {
            "_model_module": "@jupyter-widgets/base",
            "_model_module_version": "1.2.0",
            "_model_name": "LayoutModel",
            "_view_count": null,
            "_view_module": "@jupyter-widgets/base",
            "_view_module_version": "1.2.0",
            "_view_name": "LayoutView",
            "align_content": null,
            "align_items": null,
            "align_self": null,
            "border": null,
            "bottom": null,
            "display": null,
            "flex": null,
            "flex_flow": null,
            "grid_area": null,
            "grid_auto_columns": null,
            "grid_auto_flow": null,
            "grid_auto_rows": null,
            "grid_column": null,
            "grid_gap": null,
            "grid_row": null,
            "grid_template_areas": null,
            "grid_template_columns": null,
            "grid_template_rows": null,
            "height": null,
            "justify_content": null,
            "justify_items": null,
            "left": null,
            "margin": null,
            "max_height": null,
            "max_width": null,
            "min_height": null,
            "min_width": null,
            "object_fit": null,
            "object_position": null,
            "order": null,
            "overflow": null,
            "overflow_x": null,
            "overflow_y": null,
            "padding": null,
            "right": null,
            "top": null,
            "visibility": null,
            "width": null
          }
        },
        "3b41f4e586e14914819e2fc708073167": {
          "model_module": "@jupyter-widgets/controls",
          "model_name": "DescriptionStyleModel",
          "model_module_version": "1.5.0",
          "state": {
            "_model_module": "@jupyter-widgets/controls",
            "_model_module_version": "1.5.0",
            "_model_name": "DescriptionStyleModel",
            "_view_count": null,
            "_view_module": "@jupyter-widgets/base",
            "_view_module_version": "1.2.0",
            "_view_name": "StyleView",
            "description_width": ""
          }
        },
        "1126dc47e6414437a2437c38db967a24": {
          "model_module": "@jupyter-widgets/controls",
          "model_name": "HBoxModel",
          "model_module_version": "1.5.0",
          "state": {
            "_dom_classes": [],
            "_model_module": "@jupyter-widgets/controls",
            "_model_module_version": "1.5.0",
            "_model_name": "HBoxModel",
            "_view_count": null,
            "_view_module": "@jupyter-widgets/controls",
            "_view_module_version": "1.5.0",
            "_view_name": "HBoxView",
            "box_style": "",
            "children": [
              "IPY_MODEL_2f4a474fbf854da9a50eb76bcfafa1ff",
              "IPY_MODEL_712ee89118e045d686c0a985e148cabc",
              "IPY_MODEL_732cc13da8104d3aa92a180c39fa1d8a"
            ],
            "layout": "IPY_MODEL_d23bce9364a84e00987accc9659bfc80"
          }
        },
        "2f4a474fbf854da9a50eb76bcfafa1ff": {
          "model_module": "@jupyter-widgets/controls",
          "model_name": "HTMLModel",
          "model_module_version": "1.5.0",
          "state": {
            "_dom_classes": [],
            "_model_module": "@jupyter-widgets/controls",
            "_model_module_version": "1.5.0",
            "_model_name": "HTMLModel",
            "_view_count": null,
            "_view_module": "@jupyter-widgets/controls",
            "_view_module_version": "1.5.0",
            "_view_name": "HTMLView",
            "description": "",
            "description_tooltip": null,
            "layout": "IPY_MODEL_3913b6ede0234ce883bd073988bdc7e3",
            "placeholder": "​",
            "style": "IPY_MODEL_fefda56880da4e279e893fc060ee1fbb",
            "value": "model.safetensors: 100%"
          }
        },
        "712ee89118e045d686c0a985e148cabc": {
          "model_module": "@jupyter-widgets/controls",
          "model_name": "FloatProgressModel",
          "model_module_version": "1.5.0",
          "state": {
            "_dom_classes": [],
            "_model_module": "@jupyter-widgets/controls",
            "_model_module_version": "1.5.0",
            "_model_name": "FloatProgressModel",
            "_view_count": null,
            "_view_module": "@jupyter-widgets/controls",
            "_view_module_version": "1.5.0",
            "_view_name": "ProgressView",
            "bar_style": "success",
            "description": "",
            "description_tooltip": null,
            "layout": "IPY_MODEL_9ee536d32cca4ecb93df1ffb89898601",
            "max": 374979480,
            "min": 0,
            "orientation": "horizontal",
            "style": "IPY_MODEL_5bacf91838f04651b8eef79e84ca396c",
            "value": 374979480
          }
        },
        "732cc13da8104d3aa92a180c39fa1d8a": {
          "model_module": "@jupyter-widgets/controls",
          "model_name": "HTMLModel",
          "model_module_version": "1.5.0",
          "state": {
            "_dom_classes": [],
            "_model_module": "@jupyter-widgets/controls",
            "_model_module_version": "1.5.0",
            "_model_name": "HTMLModel",
            "_view_count": null,
            "_view_module": "@jupyter-widgets/controls",
            "_view_module_version": "1.5.0",
            "_view_name": "HTMLView",
            "description": "",
            "description_tooltip": null,
            "layout": "IPY_MODEL_553106852416456a9cd8cac9d8459af7",
            "placeholder": "​",
            "style": "IPY_MODEL_ee081006ffbd4798b53d448c72d9c701",
            "value": " 375M/375M [00:04&lt;00:00, 24.8MB/s]"
          }
        },
        "d23bce9364a84e00987accc9659bfc80": {
          "model_module": "@jupyter-widgets/base",
          "model_name": "LayoutModel",
          "model_module_version": "1.2.0",
          "state": {
            "_model_module": "@jupyter-widgets/base",
            "_model_module_version": "1.2.0",
            "_model_name": "LayoutModel",
            "_view_count": null,
            "_view_module": "@jupyter-widgets/base",
            "_view_module_version": "1.2.0",
            "_view_name": "LayoutView",
            "align_content": null,
            "align_items": null,
            "align_self": null,
            "border": null,
            "bottom": null,
            "display": null,
            "flex": null,
            "flex_flow": null,
            "grid_area": null,
            "grid_auto_columns": null,
            "grid_auto_flow": null,
            "grid_auto_rows": null,
            "grid_column": null,
            "grid_gap": null,
            "grid_row": null,
            "grid_template_areas": null,
            "grid_template_columns": null,
            "grid_template_rows": null,
            "height": null,
            "justify_content": null,
            "justify_items": null,
            "left": null,
            "margin": null,
            "max_height": null,
            "max_width": null,
            "min_height": null,
            "min_width": null,
            "object_fit": null,
            "object_position": null,
            "order": null,
            "overflow": null,
            "overflow_x": null,
            "overflow_y": null,
            "padding": null,
            "right": null,
            "top": null,
            "visibility": null,
            "width": null
          }
        },
        "3913b6ede0234ce883bd073988bdc7e3": {
          "model_module": "@jupyter-widgets/base",
          "model_name": "LayoutModel",
          "model_module_version": "1.2.0",
          "state": {
            "_model_module": "@jupyter-widgets/base",
            "_model_module_version": "1.2.0",
            "_model_name": "LayoutModel",
            "_view_count": null,
            "_view_module": "@jupyter-widgets/base",
            "_view_module_version": "1.2.0",
            "_view_name": "LayoutView",
            "align_content": null,
            "align_items": null,
            "align_self": null,
            "border": null,
            "bottom": null,
            "display": null,
            "flex": null,
            "flex_flow": null,
            "grid_area": null,
            "grid_auto_columns": null,
            "grid_auto_flow": null,
            "grid_auto_rows": null,
            "grid_column": null,
            "grid_gap": null,
            "grid_row": null,
            "grid_template_areas": null,
            "grid_template_columns": null,
            "grid_template_rows": null,
            "height": null,
            "justify_content": null,
            "justify_items": null,
            "left": null,
            "margin": null,
            "max_height": null,
            "max_width": null,
            "min_height": null,
            "min_width": null,
            "object_fit": null,
            "object_position": null,
            "order": null,
            "overflow": null,
            "overflow_x": null,
            "overflow_y": null,
            "padding": null,
            "right": null,
            "top": null,
            "visibility": null,
            "width": null
          }
        },
        "fefda56880da4e279e893fc060ee1fbb": {
          "model_module": "@jupyter-widgets/controls",
          "model_name": "DescriptionStyleModel",
          "model_module_version": "1.5.0",
          "state": {
            "_model_module": "@jupyter-widgets/controls",
            "_model_module_version": "1.5.0",
            "_model_name": "DescriptionStyleModel",
            "_view_count": null,
            "_view_module": "@jupyter-widgets/base",
            "_view_module_version": "1.2.0",
            "_view_name": "StyleView",
            "description_width": ""
          }
        },
        "9ee536d32cca4ecb93df1ffb89898601": {
          "model_module": "@jupyter-widgets/base",
          "model_name": "LayoutModel",
          "model_module_version": "1.2.0",
          "state": {
            "_model_module": "@jupyter-widgets/base",
            "_model_module_version": "1.2.0",
            "_model_name": "LayoutModel",
            "_view_count": null,
            "_view_module": "@jupyter-widgets/base",
            "_view_module_version": "1.2.0",
            "_view_name": "LayoutView",
            "align_content": null,
            "align_items": null,
            "align_self": null,
            "border": null,
            "bottom": null,
            "display": null,
            "flex": null,
            "flex_flow": null,
            "grid_area": null,
            "grid_auto_columns": null,
            "grid_auto_flow": null,
            "grid_auto_rows": null,
            "grid_column": null,
            "grid_gap": null,
            "grid_row": null,
            "grid_template_areas": null,
            "grid_template_columns": null,
            "grid_template_rows": null,
            "height": null,
            "justify_content": null,
            "justify_items": null,
            "left": null,
            "margin": null,
            "max_height": null,
            "max_width": null,
            "min_height": null,
            "min_width": null,
            "object_fit": null,
            "object_position": null,
            "order": null,
            "overflow": null,
            "overflow_x": null,
            "overflow_y": null,
            "padding": null,
            "right": null,
            "top": null,
            "visibility": null,
            "width": null
          }
        },
        "5bacf91838f04651b8eef79e84ca396c": {
          "model_module": "@jupyter-widgets/controls",
          "model_name": "ProgressStyleModel",
          "model_module_version": "1.5.0",
          "state": {
            "_model_module": "@jupyter-widgets/controls",
            "_model_module_version": "1.5.0",
            "_model_name": "ProgressStyleModel",
            "_view_count": null,
            "_view_module": "@jupyter-widgets/base",
            "_view_module_version": "1.2.0",
            "_view_name": "StyleView",
            "bar_color": null,
            "description_width": ""
          }
        },
        "553106852416456a9cd8cac9d8459af7": {
          "model_module": "@jupyter-widgets/base",
          "model_name": "LayoutModel",
          "model_module_version": "1.2.0",
          "state": {
            "_model_module": "@jupyter-widgets/base",
            "_model_module_version": "1.2.0",
            "_model_name": "LayoutModel",
            "_view_count": null,
            "_view_module": "@jupyter-widgets/base",
            "_view_module_version": "1.2.0",
            "_view_name": "LayoutView",
            "align_content": null,
            "align_items": null,
            "align_self": null,
            "border": null,
            "bottom": null,
            "display": null,
            "flex": null,
            "flex_flow": null,
            "grid_area": null,
            "grid_auto_columns": null,
            "grid_auto_flow": null,
            "grid_auto_rows": null,
            "grid_column": null,
            "grid_gap": null,
            "grid_row": null,
            "grid_template_areas": null,
            "grid_template_columns": null,
            "grid_template_rows": null,
            "height": null,
            "justify_content": null,
            "justify_items": null,
            "left": null,
            "margin": null,
            "max_height": null,
            "max_width": null,
            "min_height": null,
            "min_width": null,
            "object_fit": null,
            "object_position": null,
            "order": null,
            "overflow": null,
            "overflow_x": null,
            "overflow_y": null,
            "padding": null,
            "right": null,
            "top": null,
            "visibility": null,
            "width": null
          }
        },
        "ee081006ffbd4798b53d448c72d9c701": {
          "model_module": "@jupyter-widgets/controls",
          "model_name": "DescriptionStyleModel",
          "model_module_version": "1.5.0",
          "state": {
            "_model_module": "@jupyter-widgets/controls",
            "_model_module_version": "1.5.0",
            "_model_name": "DescriptionStyleModel",
            "_view_count": null,
            "_view_module": "@jupyter-widgets/base",
            "_view_module_version": "1.2.0",
            "_view_name": "StyleView",
            "description_width": ""
          }
        }
      }
    },
    "accelerator": "GPU"
  },
  "cells": [
    {
      "cell_type": "markdown",
      "metadata": {
        "id": "view-in-github",
        "colab_type": "text"
      },
      "source": [
        "<a href=\"https://colab.research.google.com/github/Nident/Calculator/blob/main/Kidney_stones.ipynb\" target=\"_parent\"><img src=\"https://colab.research.google.com/assets/colab-badge.svg\" alt=\"Open In Colab\"/></a>"
      ]
    },
    {
      "cell_type": "code",
      "source": [
        "# download required modules\n",
        "!pip install -q patchify\n",
        "!pip install -q datasets\n",
        "!pip install -q monai"
      ],
      "metadata": {
        "id": "9RXd61DsPsqB"
      },
      "execution_count": null,
      "outputs": []
    },
    {
      "cell_type": "code",
      "execution_count": null,
      "metadata": {
        "id": "4O5dLkgB9Vy4"
      },
      "outputs": [],
      "source": [
        "import numpy as np\n",
        "import os\n",
        "import re\n",
        "import json\n",
        "import matplotlib.pyplot as plt\n",
        "import cv2, zlib, base64, io\n",
        "from google.colab.patches import cv2_imshow\n",
        "from patchify import patchify\n",
        "from PIL import Image"
      ]
    },
    {
      "cell_type": "code",
      "source": [
        "from google.colab import drive\n",
        "drive.mount('/content/drive')\n",
        "%cd /content/drive/MyDrive/JOB/Medicine\n",
        "%ls\n",
        "# unzip file with images and annotations to google colab drive\n",
        "!unzip -qd \"/content\" \"/content/drive/MyDrive/JOB/Medicine/Stone\"\n",
        "HOME = os.getcwd()\n",
        "print(\"HOME:\", HOME)"
      ],
      "metadata": {
        "id": "AxnC2tEi-EtN",
        "colab": {
          "base_uri": "https://localhost:8080/"
        },
        "outputId": "19168f4d-1ba9-4fb2-c3b0-db44c6e7ecb0"
      },
      "execution_count": null,
      "outputs": [
        {
          "output_type": "stream",
          "name": "stdout",
          "text": [
            "Mounted at /content/drive\n",
            "/content/drive/MyDrive/JOB/Medicine\n",
            "model_checkpoint.pth  Stone.zip  \u001b[0m\u001b[01;34mweights\u001b[0m/\n",
            "HOME: /content/drive/MyDrive/JOB/Medicine\n"
          ]
        }
      ]
    },
    {
      "cell_type": "markdown",
      "source": [
        "# Read images from folder"
      ],
      "metadata": {
        "id": "6VITuRWcvsLz"
      }
    },
    {
      "cell_type": "code",
      "source": [
        "class Images_reader:\n",
        "  def __init__(self, image_path, annotation_path) -> None:\n",
        "    # self.full_data_dict = {}\n",
        "    self.image_path = image_path # Path to image folder\n",
        "\n",
        "    self.annotation_path = annotation_path # Path to annotation folder\n",
        "\n",
        "    self.images = np.array([])\n",
        "    self.masks = np.array([])\n",
        "\n",
        "  @staticmethod\n",
        "  def base64_2_mask(s: str) -> np.array:\n",
        "    \"\"\"\n",
        "    Function convert numpy matrix into bitmap surevisely format\n",
        "\n",
        "    Args:\n",
        "        s (str): bitmap encoded string\n",
        "\n",
        "    Returns:\n",
        "        np.array: original object matrix\n",
        "    \"\"\"\n",
        "    z = zlib.decompress(base64.b64decode(s))\n",
        "    n = np.fromstring(z, np.uint8)\n",
        "    mask = cv2.imdecode(n, cv2.IMREAD_UNCHANGED)[:, :, 3].astype(bool)\n",
        "\n",
        "    return mask\n",
        "\n",
        "  @staticmethod\n",
        "  def mask_2_base64(mask: np.array) -> str:\n",
        "    \"\"\"\n",
        "    Function convert bitmap surevisely format into numpy matrix\n",
        "\n",
        "    Args:\n",
        "        mask (np.array): original object matrix\n",
        "\n",
        "    Returns:\n",
        "        str: bitmap encoded string\n",
        "    \"\"\"\n",
        "    img_pil = Image.fromarray(np.array(mask, dtype=np.uint8))\n",
        "    img_pil.putpalette([0, 0, 0, 255, 255, 255])\n",
        "    bytes_io = io.BytesIO()\n",
        "    img_pil.save(bytes_io, format='PNG', transparency=0, optimize=0)\n",
        "    bytes = bytes_io.getvalue()\n",
        "\n",
        "    return base64.b64encode(zlib.compress(bytes)).decode('utf-8')\n",
        "\n",
        "  def draw_mask(self, initial_matrix, image_annotation):\n",
        "    # This function draw a mask for each image\n",
        "    position = (image_annotation['objects'][0]['bitmap']['origin'][-1], \\\n",
        "                image_annotation['objects'][0]['bitmap']['origin'][0])\n",
        "\n",
        "    # Convert object from bitamp to matrix\n",
        "    bitmap_matrix = self.base64_2_mask(image_annotation['objects'][0]['bitmap']['data'])\n",
        "    bitmap_size = bitmap_matrix.shape\n",
        "\n",
        "    mask = np.zeros_like(initial_matrix[:, :, 0], dtype=np.uint8)\n",
        "\n",
        "    mask[position[0] : position[0] + bitmap_size[0],\n",
        "         position[1] : position[1] + bitmap_size[1]] = bitmap_matrix\n",
        "\n",
        "    return mask\n",
        "\n",
        "\n",
        "  def split_to_numpyis(self):\n",
        "    # This function split images and masks in twon numpy arrays\n",
        "    img_arrays = []\n",
        "    mask_arrays = []\n",
        "\n",
        "    images_list = os.listdir(self.image_path)\n",
        "    # i = 0 # test\n",
        "    for idx, img_jpg in enumerate(images_list):\n",
        "      img = plt.imread(self.image_path + '/' + img_jpg)\n",
        "\n",
        "      img_arrays += [np.array(cv2.cvtColor(img, cv2.COLOR_BGR2GRAY))]\n",
        "\n",
        "      find_ann = (self.annotation_path + '/' + img_jpg).replace('jpg', 'bmp') + '.json'\n",
        "      with open(find_ann, 'r') as f:\n",
        "            image_annotation = json.load(f)\n",
        "      mask = self.draw_mask(img, image_annotation) * 255\n",
        "      mask_arrays += [mask]\n",
        "      # if i == 1: # test\n",
        "      #   break  # test\n",
        "      # i += 1 # test\n",
        "    self.images = np.stack(img_arrays)\n",
        "    self.masks = np.stack(mask_arrays)\n",
        "    return self.images, self.masks"
      ],
      "metadata": {
        "id": "dyD9p0b_9bur"
      },
      "execution_count": null,
      "outputs": []
    },
    {
      "cell_type": "code",
      "source": [
        "image_path = \"/content/Stone/img\"\n",
        "annotation_path = \"/content/Stone/ann\"\n",
        "reader = Images_reader(image_path, annotation_path)"
      ],
      "metadata": {
        "id": "g6Cjd0oS-m3j"
      },
      "execution_count": null,
      "outputs": []
    },
    {
      "cell_type": "code",
      "source": [
        "large_images, large_masks = reader.split_to_numpyis()\n",
        "print(large_images.shape)\n",
        "print(large_masks.shape)"
      ],
      "metadata": {
        "id": "Dwbl9Kbx_zRT",
        "colab": {
          "base_uri": "https://localhost:8080/"
        },
        "outputId": "6ed48619-0321-4df7-ba1c-c5720814aaee"
      },
      "execution_count": null,
      "outputs": [
        {
          "output_type": "stream",
          "name": "stderr",
          "text": [
            "<ipython-input-37-b02ea3c8c6c4>:24: DeprecationWarning: The binary mode of fromstring is deprecated, as it behaves surprisingly on unicode inputs. Use frombuffer instead\n",
            "  n = np.fromstring(z, np.uint8)\n"
          ]
        },
        {
          "output_type": "stream",
          "name": "stdout",
          "text": [
            "(273, 1555, 1555)\n",
            "(273, 1555, 1555)\n"
          ]
        }
      ]
    },
    {
      "cell_type": "code",
      "source": [
        "# split image to patches\n",
        "def to_patches(large_images, large_masks):\n",
        "    patch_size = 256\n",
        "    step = 256\n",
        "    all_img_patches = []\n",
        "    for img in range(large_images.shape[0]):\n",
        "        large_image = large_images[img]\n",
        "        patches_img = patchify(large_image, (patch_size, patch_size), step=step)  #Step=256 for 256 patches means no overlap\n",
        "\n",
        "        for i in range(patches_img.shape[0]):\n",
        "            for j in range(patches_img.shape[1]):\n",
        "\n",
        "                single_patch_img = patches_img[i,j,:,:]\n",
        "                all_img_patches.append(single_patch_img)\n",
        "\n",
        "    patched_images = np.array(all_img_patches)\n",
        "\n",
        "    #Let us do the same for masks\n",
        "    all_mask_patches = []\n",
        "    for img in range(large_masks.shape[0]):\n",
        "        large_mask = large_masks[img]\n",
        "        patches_mask = patchify(large_mask, (patch_size, patch_size), step=step)  #Step=256 for 256 patches means no overlap\n",
        "\n",
        "        for i in range(patches_mask.shape[0]):\n",
        "            for j in range(patches_mask.shape[1]):\n",
        "\n",
        "                single_patch_mask = patches_mask[i,j,:,:]\n",
        "                single_patch_mask = (single_patch_mask / 255.).astype(np.uint8)\n",
        "                all_mask_patches.append(single_patch_mask)\n",
        "\n",
        "    patched_masks = np.array(all_mask_patches)\n",
        "    return patched_images, patched_masks"
      ],
      "metadata": {
        "id": "ahGUCbRz_z4M"
      },
      "execution_count": null,
      "outputs": []
    },
    {
      "cell_type": "code",
      "source": [
        "patched_images, patched_masks = to_patches(large_images, large_masks)\n",
        "print(patched_images.shape)\n",
        "print(patched_masks.shape)"
      ],
      "metadata": {
        "id": "QtnR3kLyGmSW",
        "colab": {
          "base_uri": "https://localhost:8080/"
        },
        "outputId": "0be0768d-fccf-406b-924e-f46cf938eddc"
      },
      "execution_count": null,
      "outputs": [
        {
          "output_type": "stream",
          "name": "stdout",
          "text": [
            "(9828, 256, 256)\n",
            "(9828, 256, 256)\n"
          ]
        }
      ]
    },
    {
      "cell_type": "code",
      "source": [
        "# Create a list to store the indices of non-empty masks\n",
        "valid_indices = [i for i, mask in enumerate(patched_masks) if mask.max() != 0]\n",
        "# Filter the image and mask arrays to keep only the non-empty pairs\n",
        "filtered_images = patched_images[valid_indices]\n",
        "filtered_masks = patched_masks[valid_indices]\n",
        "print(\"Image shape:\", filtered_images.shape)  # e.g., (num_frames, height, width, num_channels)\n",
        "print(\"Mask shape:\", filtered_masks.shape)"
      ],
      "metadata": {
        "id": "pkcoFlpoPmYF",
        "colab": {
          "base_uri": "https://localhost:8080/"
        },
        "outputId": "a8d3582b-7187-4173-9d55-1f1f7223aa02"
      },
      "execution_count": null,
      "outputs": [
        {
          "output_type": "stream",
          "name": "stdout",
          "text": [
            "Image shape: (1233, 256, 256)\n",
            "Mask shape: (1233, 256, 256)\n"
          ]
        }
      ]
    },
    {
      "cell_type": "code",
      "source": [
        "from datasets import Dataset\n",
        "dataset_dict = {\n",
        "    \"image\": [Image.fromarray(img).convert('RGB') for img in filtered_images],\n",
        "    \"label\": [Image.fromarray(mask) for mask in filtered_masks],\n",
        "}\n",
        "\n",
        "dataset = Dataset.from_dict(dataset_dict)"
      ],
      "metadata": {
        "id": "G13oIEsVQl8V"
      },
      "execution_count": null,
      "outputs": []
    },
    {
      "cell_type": "code",
      "source": [
        "img_num = np.random.randint(0, filtered_images.shape[0]-1)\n",
        "example_image = dataset[img_num][\"image\"]\n",
        "example_mask = dataset[img_num][\"label\"]\n",
        "\n",
        "fig, axes = plt.subplots(1, 2, figsize=(10, 5))\n",
        "\n",
        "# Plot the first image on the left\n",
        "axes[0].imshow(np.array(example_image), cmap='gray')  # Assuming the first image is grayscale\n",
        "axes[0].set_title(\"Image\")\n",
        "\n",
        "# Plot the second image on the right\n",
        "axes[1].imshow(example_mask, cmap='gray')  # Assuming the second image is grayscale\n",
        "axes[1].set_title(\"Mask\")\n",
        "\n",
        "# Hide axis ticks and labels\n",
        "for ax in axes:\n",
        "    ax.set_xticks([])\n",
        "    ax.set_yticks([])\n",
        "    ax.set_xticklabels([])\n",
        "    ax.set_yticklabels([])\n",
        "\n",
        "# Display the images side by side\n",
        "plt.show()"
      ],
      "metadata": {
        "colab": {
          "base_uri": "https://localhost:8080/",
          "height": 411
        },
        "id": "qNqSi24-ZOh_",
        "outputId": "63735da4-0575-4556-a056-483806efec76"
      },
      "execution_count": null,
      "outputs": [
        {
          "output_type": "display_data",
          "data": {
            "text/plain": [
              "<Figure size 1000x500 with 2 Axes>"
            ],
            "image/png": "[encoded data removed]"
          },
          "metadata": {}
        }
      ]
    },
    {
      "cell_type": "code",
      "source": [
        "def get_bounding_box(ground_truth_map):\n",
        "  # get bounding box from mask\n",
        "  y_indices, x_indices = np.where(ground_truth_map > 0)\n",
        "  x_min, x_max = np.min(x_indices), np.max(x_indices)\n",
        "  y_min, y_max = np.min(y_indices), np.max(y_indices)\n",
        "  # add perturbation to bounding box coordinates\n",
        "  H, W = ground_truth_map.shape\n",
        "  x_min = max(0, x_min - np.random.randint(0, 20))\n",
        "  x_max = min(W, x_max + np.random.randint(0, 20))\n",
        "  y_min = max(0, y_min - np.random.randint(0, 20))\n",
        "  y_max = min(H, y_max + np.random.randint(0, 20))\n",
        "  bbox = [x_min, y_min, x_max, y_max]\n",
        "\n",
        "  return bbox"
      ],
      "metadata": {
        "id": "3YaGrqTaZyHK"
      },
      "execution_count": null,
      "outputs": []
    },
    {
      "cell_type": "code",
      "source": [
        "from torch.utils.data import Dataset\n",
        "class SAMDataset(Dataset):\n",
        "  \"\"\"\n",
        "  This class is used to create a dataset that serves input images and masks.\n",
        "  It takes a dataset and a processor as input and overrides the __len__ and __getitem__ methods of the Dataset class.\n",
        "  \"\"\"\n",
        "  def __init__(self, dataset, processor):\n",
        "    self.dataset = dataset\n",
        "    self.processor = processor\n",
        "\n",
        "  def __len__(self):\n",
        "    return len(self.dataset)\n",
        "\n",
        "  def __getitem__(self, idx):\n",
        "    item = self.dataset[idx]\n",
        "    image = item[\"image\"]\n",
        "    ground_truth_mask = np.array(item[\"label\"])\n",
        "\n",
        "    # get bounding box prompt\n",
        "    prompt = get_bounding_box(ground_truth_mask)\n",
        "    # prepare image and prompt for the model\n",
        "    inputs = self.processor(image, input_boxes=[[prompt]], return_tensors=\"pt\")\n",
        "    print(inputs)\n",
        "    # remove batch dimension which the processor adds by default\n",
        "    inputs = {k:v.squeeze(0) for k,v in inputs.items()}\n",
        "    print(inputs)\n",
        "    # add ground truth segmentation\n",
        "    inputs[\"ground_truth_mask\"] = ground_truth_mask\n",
        "\n",
        "    return inputs"
      ],
      "metadata": {
        "id": "a6GfQfovblmw"
      },
      "execution_count": null,
      "outputs": []
    },
    {
      "cell_type": "code",
      "source": [
        "from transformers import SamProcessor\n",
        "processor = SamProcessor.from_pretrained(\"facebook/sam-vit-base\")"
      ],
      "metadata": {
        "id": "rUvJzfelcrV1",
        "colab": {
          "base_uri": "https://localhost:8080/",
          "height": 173,
          "referenced_widgets": [
            "c47c6c354813439ba3bcf749bbb5f10b",
            "f093ee735f154edcbd6c8cfa392eff0b",
            "ebe5268b83454203b790602977a543c6",
            "234e82bc25ff4bec9e47ac7b5ca9780b",
            "652e0279e3b644f39ce84af3ad94bf04",
            "be94b8d20bc545b79ce5c6a732fa30c6",
            "9984aa77f2af44a29d70fb637c88d135",
            "63a155178a9f434bb414189ffa818050",
            "48edd228d02b461ab17481146fc7c1b8",
            "edcfa6ffd183463682cd87fbb17fc9a9",
            "e3538137b6e7445fb40ba34c67b1c747"
          ]
        },
        "outputId": "95f66f2d-f63e-4a5e-f9a3-8ba5949c68c5"
      },
      "execution_count": null,
      "outputs": [
        {
          "output_type": "stream",
          "name": "stderr",
          "text": [
            "/usr/local/lib/python3.10/dist-packages/huggingface_hub/utils/_token.py:89: UserWarning: \n",
            "The secret `HF_TOKEN` does not exist in your Colab secrets.\n",
            "To authenticate with the Hugging Face Hub, create a token in your settings tab (https://huggingface.co/settings/tokens), set it as secret in your Google Colab and restart your session.\n",
            "You will be able to reuse this secret in all of your notebooks.\n",
            "Please note that authentication is recommended but still optional to access public models or datasets.\n",
            "  warnings.warn(\n"
          ]
        },
        {
          "output_type": "display_data",
          "data": {
            "text/plain": [
              "preprocessor_config.json:   0%|          | 0.00/466 [00:00<?, ?B/s]"
            ],
            "application/vnd.jupyter.widget-view+json": {
              "version_major": 2,
              "version_minor": 0,
              "model_id": "c47c6c354813439ba3bcf749bbb5f10b"
            }
          },
          "metadata": {}
        }
      ]
    },
    {
      "cell_type": "code",
      "source": [
        "train_dataset = SAMDataset(dataset=dataset, processor=processor)"
      ],
      "metadata": {
        "id": "riTsxFLzc_T3"
      },
      "execution_count": null,
      "outputs": []
    },
    {
      "cell_type": "code",
      "source": [
        "example = train_dataset[0]\n",
        "for k, v in example.items():\n",
        "  print(k, v.shape)"
      ],
      "metadata": {
        "colab": {
          "base_uri": "https://localhost:8080/"
        },
        "id": "M_P_coHVdJ2x",
        "outputId": "5c4b087c-3522-48cb-a0e6-7da94ac72856",
        "collapsed": true
      },
      "execution_count": null,
      "outputs": [
        {
          "output_type": "stream",
          "name": "stdout",
          "text": [
            "{'pixel_values': tensor([[[[-2.1179, -2.1179, -2.1179,  ..., -2.0837, -2.0837, -2.0837],\n",
            "          [-2.1179, -2.1179, -2.1179,  ..., -2.0837, -2.0837, -2.0837],\n",
            "          [-2.1179, -2.1179, -2.1179,  ..., -2.0837, -2.0837, -2.0837],\n",
            "          ...,\n",
            "          [-2.0837, -2.0837, -2.0837,  ..., -2.1179, -2.1179, -2.1179],\n",
            "          [-2.0837, -2.0837, -2.0837,  ..., -2.1179, -2.1179, -2.1179],\n",
            "          [-2.0837, -2.0837, -2.0837,  ..., -2.1179, -2.1179, -2.1179]],\n",
            "\n",
            "         [[-2.0357, -2.0357, -2.0357,  ..., -2.0007, -2.0007, -2.0007],\n",
            "          [-2.0357, -2.0357, -2.0357,  ..., -2.0007, -2.0007, -2.0007],\n",
            "          [-2.0357, -2.0357, -2.0357,  ..., -2.0007, -2.0007, -2.0007],\n",
            "          ...,\n",
            "          [-2.0007, -2.0007, -2.0007,  ..., -2.0357, -2.0357, -2.0357],\n",
            "          [-2.0007, -2.0007, -2.0007,  ..., -2.0357, -2.0357, -2.0357],\n",
            "          [-2.0007, -2.0007, -2.0007,  ..., -2.0357, -2.0357, -2.0357]],\n",
            "\n",
            "         [[-1.8044, -1.8044, -1.8044,  ..., -1.7696, -1.7696, -1.7696],\n",
            "          [-1.8044, -1.8044, -1.8044,  ..., -1.7696, -1.7696, -1.7696],\n",
            "          [-1.8044, -1.8044, -1.8044,  ..., -1.7696, -1.7696, -1.7696],\n",
            "          ...,\n",
            "          [-1.7696, -1.7696, -1.7696,  ..., -1.8044, -1.8044, -1.8044],\n",
            "          [-1.7696, -1.7696, -1.7696,  ..., -1.8044, -1.8044, -1.8044],\n",
            "          [-1.7696, -1.7696, -1.7696,  ..., -1.8044, -1.8044, -1.8044]]]]), 'original_sizes': tensor([[256, 256]]), 'reshaped_input_sizes': tensor([[1024, 1024]]), 'input_boxes': tensor([[[ 576.,  856.,  964., 1024.]]], dtype=torch.float64)}\n",
            "{'pixel_values': tensor([[[-2.1179, -2.1179, -2.1179,  ..., -2.0837, -2.0837, -2.0837],\n",
            "         [-2.1179, -2.1179, -2.1179,  ..., -2.0837, -2.0837, -2.0837],\n",
            "         [-2.1179, -2.1179, -2.1179,  ..., -2.0837, -2.0837, -2.0837],\n",
            "         ...,\n",
            "         [-2.0837, -2.0837, -2.0837,  ..., -2.1179, -2.1179, -2.1179],\n",
            "         [-2.0837, -2.0837, -2.0837,  ..., -2.1179, -2.1179, -2.1179],\n",
            "         [-2.0837, -2.0837, -2.0837,  ..., -2.1179, -2.1179, -2.1179]],\n",
            "\n",
            "        [[-2.0357, -2.0357, -2.0357,  ..., -2.0007, -2.0007, -2.0007],\n",
            "         [-2.0357, -2.0357, -2.0357,  ..., -2.0007, -2.0007, -2.0007],\n",
            "         [-2.0357, -2.0357, -2.0357,  ..., -2.0007, -2.0007, -2.0007],\n",
            "         ...,\n",
            "         [-2.0007, -2.0007, -2.0007,  ..., -2.0357, -2.0357, -2.0357],\n",
            "         [-2.0007, -2.0007, -2.0007,  ..., -2.0357, -2.0357, -2.0357],\n",
            "         [-2.0007, -2.0007, -2.0007,  ..., -2.0357, -2.0357, -2.0357]],\n",
            "\n",
            "        [[-1.8044, -1.8044, -1.8044,  ..., -1.7696, -1.7696, -1.7696],\n",
            "         [-1.8044, -1.8044, -1.8044,  ..., -1.7696, -1.7696, -1.7696],\n",
            "         [-1.8044, -1.8044, -1.8044,  ..., -1.7696, -1.7696, -1.7696],\n",
            "         ...,\n",
            "         [-1.7696, -1.7696, -1.7696,  ..., -1.8044, -1.8044, -1.8044],\n",
            "         [-1.7696, -1.7696, -1.7696,  ..., -1.8044, -1.8044, -1.8044],\n",
            "         [-1.7696, -1.7696, -1.7696,  ..., -1.8044, -1.8044, -1.8044]]]), 'original_sizes': tensor([256, 256]), 'reshaped_input_sizes': tensor([1024, 1024]), 'input_boxes': tensor([[ 576.,  856.,  964., 1024.]], dtype=torch.float64)}\n",
            "pixel_values torch.Size([3, 1024, 1024])\n",
            "original_sizes torch.Size([2])\n",
            "reshaped_input_sizes torch.Size([2])\n",
            "input_boxes torch.Size([1, 4])\n",
            "ground_truth_mask (256, 256)\n"
          ]
        }
      ]
    },
    {
      "cell_type": "code",
      "source": [
        "from torch.utils.data import DataLoader\n",
        "\n",
        "train_dataloader = DataLoader(train_dataset, batch_size=2, shuffle=True)"
      ],
      "metadata": {
        "id": "02dhoiQJdRl7"
      },
      "execution_count": null,
      "outputs": []
    },
    {
      "cell_type": "code",
      "source": [
        "batch = next(iter(train_dataloader))\n",
        "for k,v in batch.items():\n",
        "  print(k,v.shape)"
      ],
      "metadata": {
        "colab": {
          "base_uri": "https://localhost:8080/"
        },
        "id": "v94MkuwCtljq",
        "outputId": "2d8c58c6-e0e9-456b-d7ef-0b784aa80911",
        "collapsed": true
      },
      "execution_count": null,
      "outputs": [
        {
          "output_type": "stream",
          "name": "stdout",
          "text": [
            "{'pixel_values': tensor([[[[-2.1008, -2.1008, -2.1008,  ..., -2.1179, -2.1179, -2.1179],\n",
            "          [-2.1008, -2.1008, -2.1008,  ..., -2.1179, -2.1179, -2.1179],\n",
            "          [-2.1008, -2.1008, -2.1008,  ..., -2.1179, -2.1179, -2.1179],\n",
            "          ...,\n",
            "          [-2.1179, -2.1179, -2.1179,  ..., -2.1179, -2.1179, -2.1179],\n",
            "          [-2.1179, -2.1179, -2.1179,  ..., -2.1179, -2.1179, -2.1179],\n",
            "          [-2.1179, -2.1179, -2.1179,  ..., -2.1179, -2.1179, -2.1179]],\n",
            "\n",
            "         [[-2.0182, -2.0182, -2.0182,  ..., -2.0357, -2.0357, -2.0357],\n",
            "          [-2.0182, -2.0182, -2.0182,  ..., -2.0357, -2.0357, -2.0357],\n",
            "          [-2.0182, -2.0182, -2.0182,  ..., -2.0357, -2.0357, -2.0357],\n",
            "          ...,\n",
            "          [-2.0357, -2.0357, -2.0357,  ..., -2.0357, -2.0357, -2.0357],\n",
            "          [-2.0357, -2.0357, -2.0357,  ..., -2.0357, -2.0357, -2.0357],\n",
            "          [-2.0357, -2.0357, -2.0357,  ..., -2.0357, -2.0357, -2.0357]],\n",
            "\n",
            "         [[-1.7870, -1.7870, -1.7870,  ..., -1.8044, -1.8044, -1.8044],\n",
            "          [-1.7870, -1.7870, -1.7870,  ..., -1.8044, -1.8044, -1.8044],\n",
            "          [-1.7870, -1.7870, -1.7870,  ..., -1.8044, -1.8044, -1.8044],\n",
            "          ...,\n",
            "          [-1.8044, -1.8044, -1.8044,  ..., -1.8044, -1.8044, -1.8044],\n",
            "          [-1.8044, -1.8044, -1.8044,  ..., -1.8044, -1.8044, -1.8044],\n",
            "          [-1.8044, -1.8044, -1.8044,  ..., -1.8044, -1.8044, -1.8044]]]]), 'original_sizes': tensor([[256, 256]]), 'reshaped_input_sizes': tensor([[1024, 1024]]), 'input_boxes': tensor([[[  0.,   0., 820., 528.]]], dtype=torch.float64)}\n",
            "{'pixel_values': tensor([[[-2.1008, -2.1008, -2.1008,  ..., -2.1179, -2.1179, -2.1179],\n",
            "         [-2.1008, -2.1008, -2.1008,  ..., -2.1179, -2.1179, -2.1179],\n",
            "         [-2.1008, -2.1008, -2.1008,  ..., -2.1179, -2.1179, -2.1179],\n",
            "         ...,\n",
            "         [-2.1179, -2.1179, -2.1179,  ..., -2.1179, -2.1179, -2.1179],\n",
            "         [-2.1179, -2.1179, -2.1179,  ..., -2.1179, -2.1179, -2.1179],\n",
            "         [-2.1179, -2.1179, -2.1179,  ..., -2.1179, -2.1179, -2.1179]],\n",
            "\n",
            "        [[-2.0182, -2.0182, -2.0182,  ..., -2.0357, -2.0357, -2.0357],\n",
            "         [-2.0182, -2.0182, -2.0182,  ..., -2.0357, -2.0357, -2.0357],\n",
            "         [-2.0182, -2.0182, -2.0182,  ..., -2.0357, -2.0357, -2.0357],\n",
            "         ...,\n",
            "         [-2.0357, -2.0357, -2.0357,  ..., -2.0357, -2.0357, -2.0357],\n",
            "         [-2.0357, -2.0357, -2.0357,  ..., -2.0357, -2.0357, -2.0357],\n",
            "         [-2.0357, -2.0357, -2.0357,  ..., -2.0357, -2.0357, -2.0357]],\n",
            "\n",
            "        [[-1.7870, -1.7870, -1.7870,  ..., -1.8044, -1.8044, -1.8044],\n",
            "         [-1.7870, -1.7870, -1.7870,  ..., -1.8044, -1.8044, -1.8044],\n",
            "         [-1.7870, -1.7870, -1.7870,  ..., -1.8044, -1.8044, -1.8044],\n",
            "         ...,\n",
            "         [-1.8044, -1.8044, -1.8044,  ..., -1.8044, -1.8044, -1.8044],\n",
            "         [-1.8044, -1.8044, -1.8044,  ..., -1.8044, -1.8044, -1.8044],\n",
            "         [-1.8044, -1.8044, -1.8044,  ..., -1.8044, -1.8044, -1.8044]]]), 'original_sizes': tensor([256, 256]), 'reshaped_input_sizes': tensor([1024, 1024]), 'input_boxes': tensor([[  0.,   0., 820., 528.]], dtype=torch.float64)}\n",
            "{'pixel_values': tensor([[[[-2.1179, -2.1179, -2.1179,  ..., -2.0837, -2.0837, -2.0837],\n",
            "          [-2.1179, -2.1179, -2.1179,  ..., -2.0837, -2.0837, -2.0837],\n",
            "          [-2.1179, -2.1179, -2.1179,  ..., -2.0837, -2.0837, -2.0837],\n",
            "          ...,\n",
            "          [-2.0665, -2.0665, -2.0665,  ...,  0.0569,  0.0569,  0.0569],\n",
            "          [-2.0665, -2.0665, -2.0665,  ...,  0.0569,  0.0569,  0.0569],\n",
            "          [-2.0665, -2.0665, -2.0665,  ...,  0.0569,  0.0569,  0.0569]],\n",
            "\n",
            "         [[-2.0357, -2.0357, -2.0357,  ..., -2.0007, -2.0007, -2.0007],\n",
            "          [-2.0357, -2.0357, -2.0357,  ..., -2.0007, -2.0007, -2.0007],\n",
            "          [-2.0357, -2.0357, -2.0357,  ..., -2.0007, -2.0007, -2.0007],\n",
            "          ...,\n",
            "          [-1.9832, -1.9832, -1.9832,  ...,  0.1877,  0.1877,  0.1877],\n",
            "          [-1.9832, -1.9832, -1.9832,  ...,  0.1877,  0.1877,  0.1877],\n",
            "          [-1.9832, -1.9832, -1.9832,  ...,  0.1877,  0.1877,  0.1877]],\n",
            "\n",
            "         [[-1.8044, -1.8044, -1.8044,  ..., -1.7696, -1.7696, -1.7696],\n",
            "          [-1.8044, -1.8044, -1.8044,  ..., -1.7696, -1.7696, -1.7696],\n",
            "          [-1.8044, -1.8044, -1.8044,  ..., -1.7696, -1.7696, -1.7696],\n",
            "          ...,\n",
            "          [-1.7522, -1.7522, -1.7522,  ...,  0.4091,  0.4091,  0.4091],\n",
            "          [-1.7522, -1.7522, -1.7522,  ...,  0.4091,  0.4091,  0.4091],\n",
            "          [-1.7522, -1.7522, -1.7522,  ...,  0.4091,  0.4091,  0.4091]]]]), 'original_sizes': tensor([[256, 256]]), 'reshaped_input_sizes': tensor([[1024, 1024]]), 'input_boxes': tensor([[[  84.,  668.,  564., 1024.]]], dtype=torch.float64)}\n",
            "{'pixel_values': tensor([[[-2.1179, -2.1179, -2.1179,  ..., -2.0837, -2.0837, -2.0837],\n",
            "         [-2.1179, -2.1179, -2.1179,  ..., -2.0837, -2.0837, -2.0837],\n",
            "         [-2.1179, -2.1179, -2.1179,  ..., -2.0837, -2.0837, -2.0837],\n",
            "         ...,\n",
            "         [-2.0665, -2.0665, -2.0665,  ...,  0.0569,  0.0569,  0.0569],\n",
            "         [-2.0665, -2.0665, -2.0665,  ...,  0.0569,  0.0569,  0.0569],\n",
            "         [-2.0665, -2.0665, -2.0665,  ...,  0.0569,  0.0569,  0.0569]],\n",
            "\n",
            "        [[-2.0357, -2.0357, -2.0357,  ..., -2.0007, -2.0007, -2.0007],\n",
            "         [-2.0357, -2.0357, -2.0357,  ..., -2.0007, -2.0007, -2.0007],\n",
            "         [-2.0357, -2.0357, -2.0357,  ..., -2.0007, -2.0007, -2.0007],\n",
            "         ...,\n",
            "         [-1.9832, -1.9832, -1.9832,  ...,  0.1877,  0.1877,  0.1877],\n",
            "         [-1.9832, -1.9832, -1.9832,  ...,  0.1877,  0.1877,  0.1877],\n",
            "         [-1.9832, -1.9832, -1.9832,  ...,  0.1877,  0.1877,  0.1877]],\n",
            "\n",
            "        [[-1.8044, -1.8044, -1.8044,  ..., -1.7696, -1.7696, -1.7696],\n",
            "         [-1.8044, -1.8044, -1.8044,  ..., -1.7696, -1.7696, -1.7696],\n",
            "         [-1.8044, -1.8044, -1.8044,  ..., -1.7696, -1.7696, -1.7696],\n",
            "         ...,\n",
            "         [-1.7522, -1.7522, -1.7522,  ...,  0.4091,  0.4091,  0.4091],\n",
            "         [-1.7522, -1.7522, -1.7522,  ...,  0.4091,  0.4091,  0.4091],\n",
            "         [-1.7522, -1.7522, -1.7522,  ...,  0.4091,  0.4091,  0.4091]]]), 'original_sizes': tensor([256, 256]), 'reshaped_input_sizes': tensor([1024, 1024]), 'input_boxes': tensor([[  84.,  668.,  564., 1024.]], dtype=torch.float64)}\n",
            "pixel_values torch.Size([2, 3, 1024, 1024])\n",
            "original_sizes torch.Size([2, 2])\n",
            "reshaped_input_sizes torch.Size([2, 2])\n",
            "input_boxes torch.Size([2, 1, 4])\n",
            "ground_truth_mask torch.Size([2, 256, 256])\n"
          ]
        }
      ]
    },
    {
      "cell_type": "code",
      "source": [
        "from transformers import SamModel\n",
        "\n",
        "model = SamModel.from_pretrained(\"facebook/sam-vit-base\")\n",
        "\n",
        "# make sure we only compute gradients for mask decoder\n",
        "for name, param in model.named_parameters():\n",
        "  if name.startswith(\"vision_encoder\") or name.startswith(\"prompt_encoder\"):\n",
        "    param.requires_grad_(False)"
      ],
      "metadata": {
        "colab": {
          "base_uri": "https://localhost:8080/",
          "height": 81,
          "referenced_widgets": [
            "72db9043dedd4564a7a816ccdd5fbb13",
            "c4b4855bf663430cb6451cb4c1c99c9e",
            "f6459f95515c4e4785ce9cdc8211f67d",
            "28649e53b5bf41feafdeb836af9edf0d",
            "1ab8a274ebed46a886588a0be2d89f5a",
            "66dc8e84ce0d4343aee4aec1d33dab50",
            "204b2490868345e0b6e4ec6d6fa0c8ba",
            "b64fa2de68f94a3ba29732e0d002cae8",
            "c5ffeb190dcb44c2b2a33adfa348741e",
            "6cc8a6ee33b04c948d41bc7aca7428c9",
            "3b41f4e586e14914819e2fc708073167",
            "1126dc47e6414437a2437c38db967a24",
            "2f4a474fbf854da9a50eb76bcfafa1ff",
            "712ee89118e045d686c0a985e148cabc",
            "732cc13da8104d3aa92a180c39fa1d8a",
            "d23bce9364a84e00987accc9659bfc80",
            "3913b6ede0234ce883bd073988bdc7e3",
            "fefda56880da4e279e893fc060ee1fbb",
            "9ee536d32cca4ecb93df1ffb89898601",
            "5bacf91838f04651b8eef79e84ca396c",
            "553106852416456a9cd8cac9d8459af7",
            "ee081006ffbd4798b53d448c72d9c701"
          ]
        },
        "id": "R1zq0DGjtpwY",
        "outputId": "e4609a00-9859-45a1-e8f6-9474590dd051"
      },
      "execution_count": null,
      "outputs": [
        {
          "output_type": "display_data",
          "data": {
            "text/plain": [
              "config.json:   0%|          | 0.00/6.57k [00:00<?, ?B/s]"
            ],
            "application/vnd.jupyter.widget-view+json": {
              "version_major": 2,
              "version_minor": 0,
              "model_id": "72db9043dedd4564a7a816ccdd5fbb13"
            }
          },
          "metadata": {}
        },
        {
          "output_type": "display_data",
          "data": {
            "text/plain": [
              "model.safetensors:   0%|          | 0.00/375M [00:00<?, ?B/s]"
            ],
            "application/vnd.jupyter.widget-view+json": {
              "version_major": 2,
              "version_minor": 0,
              "model_id": "1126dc47e6414437a2437c38db967a24"
            }
          },
          "metadata": {}
        }
      ]
    },
    {
      "cell_type": "code",
      "source": [
        "from torch.optim import Adam\n",
        "import monai\n",
        "\n",
        "# Note: Hyperparameter tuning could improve performance here\n",
        "optimizer = Adam(model.mask_decoder.parameters(), lr=1e-5, weight_decay=0)\n",
        "\n",
        "seg_loss = monai.losses.DiceCELoss(sigmoid=True, squared_pred=True, reduction='mean')"
      ],
      "metadata": {
        "id": "mOWGnrgEttl3"
      },
      "execution_count": null,
      "outputs": []
    },
    {
      "cell_type": "code",
      "source": [
        "from tqdm import tqdm\n",
        "from statistics import mean\n",
        "import torch\n",
        "from torch.nn.functional import threshold, normalize\n",
        "\n",
        "num_epochs = 2\n",
        "\n",
        "device = \"cuda\" if torch.cuda.is_available() else \"cpu\"\n",
        "model.to(device)\n",
        "\n",
        "model.train()\n",
        "for epoch in range(num_epochs):\n",
        "    epoch_losses = []\n",
        "    for batch in tqdm(train_dataloader):\n",
        "      # forward pass\n",
        "      outputs = model(pixel_values=batch[\"pixel_values\"].to(device),\n",
        "                      input_boxes=batch[\"input_boxes\"].to(device),\n",
        "                      multimask_output=False)\n",
        "\n",
        "      # compute loss\n",
        "      predicted_masks = outputs.pred_masks.squeeze(1)\n",
        "      ground_truth_masks = batch[\"ground_truth_mask\"].float().to(device)\n",
        "      loss = seg_loss(predicted_masks, ground_truth_masks.unsqueeze(1))\n",
        "\n",
        "      # backward pass (compute gradients of parameters w.r.t. loss)\n",
        "      optimizer.zero_grad()\n",
        "      loss.backward()\n",
        "\n",
        "      # optimize\n",
        "      optimizer.step()\n",
        "      epoch_losses.append(loss.item())\n",
        "\n",
        "    print(f'EPOCH: {epoch}')\n",
        "    print(f'Mean loss: {mean(epoch_losses)}')"
      ],
      "metadata": {
        "id": "OLxL4MDCt9HK",
        "collapsed": true
      },
      "execution_count": null,
      "outputs": []
    },
    {
      "cell_type": "code",
      "source": [
        "path to save model\n",
        "torch.save(model.state_dict(), \"/content/drive/MyDrive/JOB/Medicine/model_checkpoint.pth\")"
      ],
      "metadata": {
        "id": "p26umwWi13dH"
      },
      "execution_count": null,
      "outputs": []
    },
    {
      "cell_type": "code",
      "source": [
        "import numpy as np\n",
        "from PIL import Image\n",
        "\n",
        "# let's take a random training example\n",
        "idx = 0\n",
        "\n",
        "# load image\n",
        "image = dataset[idx][\"image\"]\n",
        "image"
      ],
      "metadata": {
        "colab": {
          "base_uri": "https://localhost:8080/",
          "height": 273
        },
        "id": "7v7wo09ct_2n",
        "outputId": "a23330b1-14ee-47d4-9f4f-15fa9e919196"
      },
      "execution_count": null,
      "outputs": [
        {
          "output_type": "execute_result",
          "data": {
            "text/plain": [
              "<PIL.PngImagePlugin.PngImageFile image mode=RGB size=256x256>"
            ],
            "image/png": "[encoded data removed]"
          },
          "metadata": {},
          "execution_count": 22
        }
      ]
    },
    {
      "cell_type": "code",
      "source": [
        "# get box prompt based on ground truth segmentation map\n",
        "ground_truth_mask = np.array(dataset[idx][\"label\"])\n",
        "prompt = get_bounding_box(ground_truth_mask)\n",
        "\n",
        "# prepare image + box prompt for the model\n",
        "inputs = processor(image, input_boxes=[[prompt]], return_tensors=\"pt\").to(device)\n",
        "for k,v in inputs.items():\n",
        "  print(k,v.shape)"
      ],
      "metadata": {
        "colab": {
          "base_uri": "https://localhost:8080/"
        },
        "id": "BRO5Fu_AuBDn",
        "outputId": "dc5c596a-8c10-4546-8c2b-58726b98aff6"
      },
      "execution_count": null,
      "outputs": [
        {
          "output_type": "stream",
          "name": "stdout",
          "text": [
            "pixel_values torch.Size([1, 3, 1024, 1024])\n",
            "original_sizes torch.Size([1, 2])\n",
            "reshaped_input_sizes torch.Size([1, 2])\n",
            "input_boxes torch.Size([1, 1, 4])\n"
          ]
        }
      ]
    },
    {
      "cell_type": "code",
      "source": [
        "model.eval()\n",
        "\n",
        "# forward pass\n",
        "with torch.no_grad():\n",
        "  outputs = model(**inputs, multimask_output=False)"
      ],
      "metadata": {
        "id": "DVHfMQceuBd8"
      },
      "execution_count": null,
      "outputs": []
    },
    {
      "cell_type": "code",
      "source": [
        "# apply sigmoid\n",
        "medsam_seg_prob = torch.sigmoid(outputs.pred_masks.squeeze(1))\n",
        "# convert soft mask to hard mask\n",
        "medsam_seg_prob = medsam_seg_prob.cpu().numpy().squeeze()\n",
        "medsam_seg = (medsam_seg_prob > 0.5).astype(np.uint8)"
      ],
      "metadata": {
        "id": "xMGiphoWuGbu"
      },
      "execution_count": null,
      "outputs": []
    },
    {
      "cell_type": "code",
      "source": [
        "def show_mask(mask, ax, random_color=False):\n",
        "    if random_color:\n",
        "        color = np.concatenate([np.random.random(3), np.array([0.6])], axis=0)\n",
        "    else:\n",
        "        color = np.array([30/255, 144/255, 255/255, 0.6])\n",
        "    h, w = mask.shape[-2:]\n",
        "    mask_image = mask.reshape(h, w, 1) * color.reshape(1, 1, -1)\n",
        "    ax.imshow(mask_image)\n",
        "\n",
        "fig, axes = plt.subplots()\n",
        "\n",
        "axes.imshow(np.array(image))\n",
        "show_mask(medsam_seg, axes)\n",
        "axes.title.set_text(f\"Predicted mask\")\n",
        "axes.axis(\"off\")"
      ],
      "metadata": {
        "colab": {
          "base_uri": "https://localhost:8080/",
          "height": 445
        },
        "id": "wjM0psKkuNkc",
        "outputId": "70f105d8-394a-447b-a992-379cc818fcfb"
      },
      "execution_count": null,
      "outputs": [
        {
          "output_type": "execute_result",
          "data": {
            "text/plain": [
              "(-0.5, 255.5, 255.5, -0.5)"
            ]
          },
          "metadata": {},
          "execution_count": 26
        },
        {
          "output_type": "display_data",
          "data": {
            "text/plain": [
              "<Figure size 640x480 with 1 Axes>"
            ],
            "image/png": "[encoded data removed]"
          },
          "metadata": {}
        }
      ]
    },
    {
      "cell_type": "code",
      "source": [
        "fig, axes = plt.subplots()\n",
        "\n",
        "axes.imshow(np.array(image))\n",
        "show_mask(ground_truth_mask, axes)\n",
        "axes.title.set_text(f\"Ground truth mask\")\n",
        "axes.axis(\"off\")"
      ],
      "metadata": {
        "colab": {
          "base_uri": "https://localhost:8080/",
          "height": 445
        },
        "id": "PW-VxGBluN4d",
        "outputId": "6764a354-758f-4848-d429-42bdcf38e164"
      },
      "execution_count": null,
      "outputs": [
        {
          "output_type": "execute_result",
          "data": {
            "text/plain": [
              "(-0.5, 255.5, 255.5, -0.5)"
            ]
          },
          "metadata": {},
          "execution_count": 27
        },
        {
          "output_type": "display_data",
          "data": {
            "text/plain": [
              "<Figure size 640x480 with 1 Axes>"
            ],
            "image/png": "[encoded data removed]"
          },
          "metadata": {}
        }
      ]
    },
    {
      "cell_type": "code",
      "source": [
        "(dataset[0]['image'])"
      ],
      "metadata": {
        "colab": {
          "base_uri": "https://localhost:8080/",
          "height": 273
        },
        "id": "mI72cc22vMD3",
        "outputId": "57299591-978e-45dc-f0a1-910157abbe3e"
      },
      "execution_count": null,
      "outputs": [
        {
          "output_type": "execute_result",
          "data": {
            "text/plain": [
              "<PIL.PngImagePlugin.PngImageFile image mode=RGB size=256x256>"
            ],
            "image/png": "[encoded data removed]"
          },
          "metadata": {},
          "execution_count": 28
        }
      ]
    },
    {
      "cell_type": "markdown",
      "source": [
        "# Run Saved Model"
      ],
      "metadata": {
        "id": "R47I4dl6uP11"
      }
    },
    {
      "cell_type": "code",
      "source": [
        "from transformers import SamModel, SamConfig, SamProcessor\n",
        "import torch"
      ],
      "metadata": {
        "id": "ExBOI1qNj0JB"
      },
      "execution_count": null,
      "outputs": []
    },
    {
      "cell_type": "code",
      "source": [
        "model_config = SamConfig.from_pretrained('facebook/sam-vit-base')\n",
        "processor = SamProcessor.from_pretrained('facebook/sam-vit-base')"
      ],
      "metadata": {
        "id": "WuRg4cfCmNsf"
      },
      "execution_count": null,
      "outputs": []
    },
    {
      "cell_type": "code",
      "source": [
        "my_mito_model = SamModel(config=model_config)\n",
        "# use path to a save train model\n",
        "my_mito_model.load_state_dict(torch.load('/content/drive/MyDrive/JOB/Medicine/model_checkpoint.pth'))"
      ],
      "metadata": {
        "colab": {
          "base_uri": "https://localhost:8080/"
        },
        "id": "G9vTJVc1mtR-",
        "outputId": "f8e15408-f234-4576-ab13-e43faf3cea78"
      },
      "execution_count": null,
      "outputs": [
        {
          "output_type": "stream",
          "name": "stderr",
          "text": [
            "<ipython-input-31-255ee2c1167d>:2: FutureWarning: You are using `torch.load` with `weights_only=False` (the current default value), which uses the default pickle module implicitly. It is possible to construct malicious pickle data which will execute arbitrary code during unpickling (See https://github.com/pytorch/pytorch/blob/main/SECURITY.md#untrusted-models for more details). In a future release, the default value for `weights_only` will be flipped to `True`. This limits the functions that could be executed during unpickling. Arbitrary objects will no longer be allowed to be loaded via this mode unless they are explicitly allowlisted by the user via `torch.serialization.add_safe_globals`. We recommend you start setting `weights_only=True` for any use case where you don't have full control of the loaded file. Please open an issue on GitHub for any issues related to this experimental feature.\n",
            "  my_mito_model.load_state_dict(torch.load('/content/drive/MyDrive/JOB/Medicine/model_checkpoint.pth'))\n"
          ]
        },
        {
          "output_type": "execute_result",
          "data": {
            "text/plain": [
              "<All keys matched successfully>"
            ]
          },
          "metadata": {},
          "execution_count": 31
        }
      ]
    },
    {
      "cell_type": "code",
      "source": [
        "device = 'cuda' if torch.cuda.is_available() else 'cpu'\n",
        "my_mito_model.to(device)"
      ],
      "metadata": {
        "colab": {
          "base_uri": "https://localhost:8080/"
        },
        "collapsed": true,
        "id": "jCCZow_Km5lv",
        "outputId": "4a9b592e-4333-40f2-c5e4-35af0987ab90"
      },
      "execution_count": null,
      "outputs": [
        {
          "output_type": "execute_result",
          "data": {
            "text/plain": [
              "SamModel(\n",
              "  (shared_image_embedding): SamPositionalEmbedding()\n",
              "  (vision_encoder): SamVisionEncoder(\n",
              "    (patch_embed): SamPatchEmbeddings(\n",
              "      (projection): Conv2d(3, 768, kernel_size=(16, 16), stride=(16, 16))\n",
              "    )\n",
              "    (layers): ModuleList(\n",
              "      (0-11): 12 x SamVisionLayer(\n",
              "        (layer_norm1): LayerNorm((768,), eps=1e-06, elementwise_affine=True)\n",
              "        (attn): SamVisionAttention(\n",
              "          (qkv): Linear(in_features=768, out_features=2304, bias=True)\n",
              "          (proj): Linear(in_features=768, out_features=768, bias=True)\n",
              "        )\n",
              "        (layer_norm2): LayerNorm((768,), eps=1e-06, elementwise_affine=True)\n",
              "        (mlp): SamMLPBlock(\n",
              "          (lin1): Linear(in_features=768, out_features=3072, bias=True)\n",
              "          (lin2): Linear(in_features=3072, out_features=768, bias=True)\n",
              "          (act): GELUActivation()\n",
              "        )\n",
              "      )\n",
              "    )\n",
              "    (neck): SamVisionNeck(\n",
              "      (conv1): Conv2d(768, 256, kernel_size=(1, 1), stride=(1, 1), bias=False)\n",
              "      (layer_norm1): SamLayerNorm()\n",
              "      (conv2): Conv2d(256, 256, kernel_size=(3, 3), stride=(1, 1), padding=(1, 1), bias=False)\n",
              "      (layer_norm2): SamLayerNorm()\n",
              "    )\n",
              "  )\n",
              "  (prompt_encoder): SamPromptEncoder(\n",
              "    (shared_embedding): SamPositionalEmbedding()\n",
              "    (mask_embed): SamMaskEmbedding(\n",
              "      (activation): GELUActivation()\n",
              "      (conv1): Conv2d(1, 4, kernel_size=(2, 2), stride=(2, 2))\n",
              "      (conv2): Conv2d(4, 16, kernel_size=(2, 2), stride=(2, 2))\n",
              "      (conv3): Conv2d(16, 256, kernel_size=(1, 1), stride=(1, 1))\n",
              "      (layer_norm1): SamLayerNorm()\n",
              "      (layer_norm2): SamLayerNorm()\n",
              "    )\n",
              "    (no_mask_embed): Embedding(1, 256)\n",
              "    (point_embed): ModuleList(\n",
              "      (0-3): 4 x Embedding(1, 256)\n",
              "    )\n",
              "    (not_a_point_embed): Embedding(1, 256)\n",
              "  )\n",
              "  (mask_decoder): SamMaskDecoder(\n",
              "    (iou_token): Embedding(1, 256)\n",
              "    (mask_tokens): Embedding(4, 256)\n",
              "    (transformer): SamTwoWayTransformer(\n",
              "      (layers): ModuleList(\n",
              "        (0-1): 2 x SamTwoWayAttentionBlock(\n",
              "          (self_attn): SamAttention(\n",
              "            (q_proj): Linear(in_features=256, out_features=256, bias=True)\n",
              "            (k_proj): Linear(in_features=256, out_features=256, bias=True)\n",
              "            (v_proj): Linear(in_features=256, out_features=256, bias=True)\n",
              "            (out_proj): Linear(in_features=256, out_features=256, bias=True)\n",
              "          )\n",
              "          (layer_norm1): LayerNorm((256,), eps=1e-06, elementwise_affine=True)\n",
              "          (cross_attn_token_to_image): SamAttention(\n",
              "            (q_proj): Linear(in_features=256, out_features=128, bias=True)\n",
              "            (k_proj): Linear(in_features=256, out_features=128, bias=True)\n",
              "            (v_proj): Linear(in_features=256, out_features=128, bias=True)\n",
              "            (out_proj): Linear(in_features=128, out_features=256, bias=True)\n",
              "          )\n",
              "          (layer_norm2): LayerNorm((256,), eps=1e-06, elementwise_affine=True)\n",
              "          (mlp): SamMLPBlock(\n",
              "            (lin1): Linear(in_features=256, out_features=2048, bias=True)\n",
              "            (lin2): Linear(in_features=2048, out_features=256, bias=True)\n",
              "            (act): ReLU()\n",
              "          )\n",
              "          (layer_norm3): LayerNorm((256,), eps=1e-06, elementwise_affine=True)\n",
              "          (layer_norm4): LayerNorm((256,), eps=1e-06, elementwise_affine=True)\n",
              "          (cross_attn_image_to_token): SamAttention(\n",
              "            (q_proj): Linear(in_features=256, out_features=128, bias=True)\n",
              "            (k_proj): Linear(in_features=256, out_features=128, bias=True)\n",
              "            (v_proj): Linear(in_features=256, out_features=128, bias=True)\n",
              "            (out_proj): Linear(in_features=128, out_features=256, bias=True)\n",
              "          )\n",
              "        )\n",
              "      )\n",
              "      (final_attn_token_to_image): SamAttention(\n",
              "        (q_proj): Linear(in_features=256, out_features=128, bias=True)\n",
              "        (k_proj): Linear(in_features=256, out_features=128, bias=True)\n",
              "        (v_proj): Linear(in_features=256, out_features=128, bias=True)\n",
              "        (out_proj): Linear(in_features=128, out_features=256, bias=True)\n",
              "      )\n",
              "      (layer_norm_final_attn): LayerNorm((256,), eps=1e-05, elementwise_affine=True)\n",
              "    )\n",
              "    (upscale_conv1): ConvTranspose2d(256, 64, kernel_size=(2, 2), stride=(2, 2))\n",
              "    (upscale_conv2): ConvTranspose2d(64, 32, kernel_size=(2, 2), stride=(2, 2))\n",
              "    (upscale_layer_norm): SamLayerNorm()\n",
              "    (activation): GELU(approximate='none')\n",
              "    (output_hypernetworks_mlps): ModuleList(\n",
              "      (0-3): 4 x SamFeedForward(\n",
              "        (activation): ReLU()\n",
              "        (proj_in): Linear(in_features=256, out_features=256, bias=True)\n",
              "        (proj_out): Linear(in_features=256, out_features=32, bias=True)\n",
              "        (layers): ModuleList(\n",
              "          (0): Linear(in_features=256, out_features=256, bias=True)\n",
              "        )\n",
              "      )\n",
              "    )\n",
              "    (iou_prediction_head): SamFeedForward(\n",
              "      (activation): ReLU()\n",
              "      (proj_in): Linear(in_features=256, out_features=256, bias=True)\n",
              "      (proj_out): Linear(in_features=256, out_features=4, bias=True)\n",
              "      (layers): ModuleList(\n",
              "        (0): Linear(in_features=256, out_features=256, bias=True)\n",
              "      )\n",
              "    )\n",
              "  )\n",
              ")"
            ]
          },
          "metadata": {},
          "execution_count": 32
        }
      ]
    },
    {
      "cell_type": "code",
      "source": [
        "idx = np.random.randint(0, filtered_images.shape[0]-1)\n",
        "test_image = dataset[idx]['image']\n",
        "\n",
        "ground_truth_mask = np.array(dataset[idx]['label'])\n",
        "prompt = get_bounding_box(ground_truth_mask)\n",
        "\n",
        "inputs = processor(test_image, input_boxes=[[prompt]], return_tensors='pt')\n",
        "\n",
        "inputs = {k: v.to(device) for k, v in inputs.items()}\n",
        "my_mito_model.eval()\n",
        "\n",
        "with torch.no_grad():\n",
        "  outputs = my_mito_model(**inputs, multimask_output=False)\n",
        "\n",
        "medsam_seg_prob = torch.sigmoid(outputs.pred_masks.squeeze(1))\n",
        "medsam_seg_prob = medsam_seg_prob.cpu().numpy().squeeze()\n",
        "medsam_seg = (medsam_seg_prob > 0.5).astype(np.uint8)\n",
        "\n",
        "fig, axes = plt.subplots(1, 3, figsize=(10, 5))\n",
        "\n",
        "# Plot the first image on the left\n",
        "axes[0].imshow(np.array(test_image), cmap='gray')  # Assuming the first image is grayscale\n",
        "axes[0].set_title(\"Image\")\n",
        "\n",
        "# Plot the second image on the right\n",
        "axes[1].imshow(medsam_seg, cmap='gray')  # Assuming the second image is grayscale\n",
        "axes[1].set_title(\"Mask\")\n",
        "\n",
        "axes[2].imshow(medsam_seg_prob)  # Assuming the second image is grayscale\n",
        "axes[2].set_title(\"Probability Map\")\n",
        "\n",
        "# Hide axis ticks and labels\n",
        "for ax in axes:\n",
        "    ax.set_xticks([])\n",
        "    ax.set_yticks([])\n",
        "    ax.set_xticklabels([])\n",
        "    ax.set_yticklabels([])\n",
        "\n",
        "# Display the images side by side\n",
        "plt.show()"
      ],
      "metadata": {
        "colab": {
          "base_uri": "https://localhost:8080/",
          "height": 287
        },
        "id": "cfTuRf853D9v",
        "outputId": "397df70b-64fd-4819-b995-6cb4cb4770c5"
      },
      "execution_count": null,
      "outputs": [
        {
          "output_type": "display_data",
          "data": {
            "text/plain": [
              "<Figure size 1000x500 with 3 Axes>"
            ],
            "image/png": "[encoded data removed]"
          },
          "metadata": {}
        }
      ]
    },
    {
      "cell_type": "code",
      "source": [],
      "metadata": {
        "id": "zm4eI7Oy6WZj"
      },
      "execution_count": null,
      "outputs": []
    }
  ]
}